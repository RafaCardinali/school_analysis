{
 "cells": [
  {
   "cell_type": "code",
   "execution_count": null,
   "metadata": {},
   "outputs": [],
   "source": [
    "import pandas as pd\n",
    "\n",
    "schools = pd.read_csv(\"schools.csv\")\n",
    "\n",
    "best_math = schools[schools[\"average_math\"] >= (800 * 0.8)]\n",
    "best_math_schools = best_math.loc[:, [\"school_name\", 'average_math']].sort_values('average_math', ascending=False)\n",
    "\n",
    "schools[\"total_SAT\"] = schools['average_math'] + schools['average_reading'] + schools['average_writing']\n",
    "top_10_schools = schools.sort_values('total_SAT', ascending=False).iloc[: 10, :][['school_name', 'total_SAT']]\n",
    "\n",
    "schools_by_borough = schools.groupby('borough').agg(average_SAT=('total_SAT', 'mean'), std_SAT=('total_SAT', 'std'), num_schools=('school_name', 'count')).round(2)\n",
    "largest_std_dev = schools_by_borough[schools_by_borough['std_SAT'] == schools_by_borough['std_SAT'].max()]"
   ]
  }
 ],
 "metadata": {
  "language_info": {
   "name": "python"
  }
 },
 "nbformat": 4,
 "nbformat_minor": 2
}
